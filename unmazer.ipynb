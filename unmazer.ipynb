{
  "nbformat": 4,
  "nbformat_minor": 0,
  "metadata": {
    "colab": {
      "name": "unmazer.ipynb",
      "private_outputs": true,
      "provenance": []
    },
    "kernelspec": {
      "name": "python3",
      "display_name": "Python 3"
    },
    "language_info": {
      "name": "python"
    }
  },
  "cells": [
    {
      "cell_type": "code",
      "metadata": {
        "id": "nqzX3r20f5KA"
      },
      "source": [
        "from google.colab import drive\n",
        "drive.mount(\"/content/drive\")"
      ],
      "execution_count": null,
      "outputs": []
    },
    {
      "cell_type": "code",
      "metadata": {
        "id": "KSxNRydpgNy6"
      },
      "source": [
        "import pandas as pd\n",
        "import  matplotlib.pyplot as plt\n",
        "import folium\n",
        "from folium.plugins import FastMarkerCluster"
      ],
      "execution_count": null,
      "outputs": []
    },
    {
      "cell_type": "code",
      "metadata": {
        "id": "5yGK7WCxgfdF"
      },
      "source": [
        "df = pd.read_csv('/content/drive/MyDrive/Projects/UnMazer/listings.csv')\n",
        "df.head()"
      ],
      "execution_count": null,
      "outputs": []
    },
    {
      "cell_type": "code",
      "metadata": {
        "id": "1RW6BWXOhiOn"
      },
      "source": [
        "df.drop(\"neighbourhood_group\",axis = 1,inplace = True)"
      ],
      "execution_count": null,
      "outputs": []
    },
    {
      "cell_type": "code",
      "metadata": {
        "id": "EL8JwgcSoVyz"
      },
      "source": [
        ""
      ],
      "execution_count": null,
      "outputs": []
    },
    {
      "cell_type": "markdown",
      "metadata": {
        "id": "rSg7AVJpoSMJ"
      },
      "source": [
        "**1**"
      ]
    },
    {
      "cell_type": "code",
      "metadata": {
        "id": "jv0olDeeg0GG"
      },
      "source": [
        "colors = ['b', 'g', 'r', 'c', 'm', 'y', 'g']\n",
        "\n",
        "feq=df['neighbourhood'].value_counts().sort_values(ascending=True)\n",
        "feq.plot.barh(figsize=(15, 10), color=  colors, alpha = .5,width=.5)\n",
        "plt.title(\"Number of listings by neighbourhood\", fontsize=20)\n",
        "plt.xlabel('Number of listings', fontsize=12)\n",
        "plt.show()"
      ],
      "execution_count": null,
      "outputs": []
    },
    {
      "cell_type": "code",
      "metadata": {
        "id": "SJ82-D3Tg977"
      },
      "source": [
        "lats = df['latitude'].tolist()\n",
        "lons = df['longitude'].tolist()\n",
        "locations = list(zip(lats, lons))\n",
        "\n",
        "map1 = folium.Map(location=[30.269501, -97.715942], zoom_start=10.4)\n",
        "FastMarkerCluster(data=locations).add_to(map1)\n",
        "map1.save(\"areas_with_highest_no._of_listings.html\")\n",
        "map1"
      ],
      "execution_count": null,
      "outputs": []
    },
    {
      "cell_type": "markdown",
      "metadata": {
        "id": "wPt5ILAUo51W"
      },
      "source": [
        "===================================================================================================================\n"
      ]
    },
    {
      "cell_type": "code",
      "metadata": {
        "id": "XFxP9LNnhPsE"
      },
      "source": [
        "!pip install geopandas"
      ],
      "execution_count": null,
      "outputs": []
    },
    {
      "cell_type": "markdown",
      "metadata": {
        "id": "5SoyuDrZoYFI"
      },
      "source": [
        "**2** "
      ]
    },
    {
      "cell_type": "code",
      "metadata": {
        "id": "A5kTeLfahbKN"
      },
      "source": [
        "import geopandas as gpd\n",
        "from branca.colormap import LinearColormap"
      ],
      "execution_count": null,
      "outputs": []
    },
    {
      "cell_type": "code",
      "metadata": {
        "id": "KrvGCOZohfJL"
      },
      "source": [
        "feq = df[['neighbourhood',\"room_type\"]]\n",
        "feq['room_type'] = feq['room_type'].apply(lambda x: x if x == 'Entire home/apt' else \"single room\")"
      ],
      "execution_count": null,
      "outputs": []
    },
    {
      "cell_type": "code",
      "metadata": {
        "id": "TeIjkH-ehiys"
      },
      "source": [
        "feq.head()"
      ],
      "execution_count": null,
      "outputs": []
    },
    {
      "cell_type": "code",
      "metadata": {
        "id": "DQV9og9Lhk7j"
      },
      "source": [
        "feq = feq.groupby(['neighbourhood',\"room_type\"])['room_type'].count() \\\n",
        "                  .unstack(fill_value=0)\\\n",
        "                  .rename_axis(None, axis=1)\n",
        "feq.plot.barh(figsize=(10, 8), color=['b','r'], width=.9,alpha = .5)\n",
        "plt.title('Room type count ', fontsize=20)\n",
        "plt.xlabel('Count', fontsize=12)\n",
        "plt.ylabel(\"\")\n",
        "plt.show()"
      ],
      "execution_count": null,
      "outputs": []
    },
    {
      "cell_type": "code",
      "metadata": {
        "id": "1sSL6fTRN1rP"
      },
      "source": [
        ""
      ],
      "execution_count": null,
      "outputs": []
    },
    {
      "cell_type": "code",
      "metadata": {
        "id": "-73vrnn0hqsX"
      },
      "source": [
        "feq['total'] = feq['Entire home/apt'] + feq['single room']"
      ],
      "execution_count": null,
      "outputs": []
    },
    {
      "cell_type": "code",
      "metadata": {
        "id": "SVsAnFE2hulM"
      },
      "source": [
        "adam = gpd.read_file(\"/content/drive/MyDrive/Projects/UnMazer/neighbourhoods (1).geojson\")\n",
        "adam['neighbourhood']= adam['neighbourhood'].astype(\"int64\")\n",
        "adam = pd.merge(adam, feq, on='neighbourhood', how='left')\n",
        "map_dict = adam.set_index('neighbourhood')['total'].to_dict()\n",
        "color_scale = LinearColormap(['yellow','red'], vmin = min(map_dict.values()), vmax = max(map_dict.values()))\n",
        "\n",
        "def get_color(feature):\n",
        "    value = map_dict.get(feature['properties']['neighbourhood'])\n",
        "    return color_scale(value)\n",
        "\n",
        "map2 = folium.Map(location=[30.269501, -97.715942], zoom_start=10.4)\n",
        "folium.GeoJson(data=adam,\n",
        "               name='Austin',\n",
        "               tooltip=folium.features.GeoJsonTooltip(fields=['neighbourhood', 'Entire home/apt','single room'],\n",
        "                                                      labels=True,\n",
        "                                                      sticky=False),\n",
        "               style_function= lambda feature: {\n",
        "                   'fillColor': get_color(feature),\n",
        "                   'color': 'black',\n",
        "                   'weight': 1,\n",
        "                   'dashArray': '5, 5',\n",
        "                   'fillOpacity':0.5\n",
        "                   },\n",
        "               highlight_function=lambda feature: {'weight':3, 'fillColor': get_color(feature), 'fillOpacity': 0.8}).add_to(map2)\n",
        "map2.save(\"thematicmap_of_neighbourhood.html\")\n",
        "map2"
      ],
      "execution_count": null,
      "outputs": []
    },
    {
      "cell_type": "markdown",
      "metadata": {
        "id": "nYLhG1ZYoiPF"
      },
      "source": [
        "===================================================================================================================\n"
      ]
    },
    {
      "cell_type": "markdown",
      "metadata": {
        "id": "_y-4yIv3oeD1"
      },
      "source": [
        "**3**"
      ]
    },
    {
      "cell_type": "code",
      "metadata": {
        "id": "agpzhDzgIu_-"
      },
      "source": [
        "top_10 = df.groupby(['host_id'])['calculated_host_listings_count'].sum().sort_values(ascending = True)[-10:]\n",
        "top_10[::-1]"
      ],
      "execution_count": null,
      "outputs": []
    },
    {
      "cell_type": "code",
      "metadata": {
        "id": "FiG5ocGtEVJb"
      },
      "source": [
        "top_10.plot.barh(figsize=(10, 7), color= colors, alpha = .7,width=.5)\n",
        "plt.title(\"Top 10 hosts\", fontsize=20)\n",
        "plt.xlabel('Total no. of listings', fontsize=12)\n",
        "plt.show()"
      ],
      "execution_count": null,
      "outputs": []
    },
    {
      "cell_type": "markdown",
      "metadata": {
        "id": "y0jXid-2pA-7"
      },
      "source": [
        "===================================================================================================================\n"
      ]
    },
    {
      "cell_type": "markdown",
      "metadata": {
        "id": "0LdsmSA4pCSv"
      },
      "source": [
        "**4**"
      ]
    },
    {
      "cell_type": "code",
      "metadata": {
        "id": "2076ftW1H_jQ"
      },
      "source": [
        "import seaborn as sns"
      ],
      "execution_count": null,
      "outputs": []
    },
    {
      "cell_type": "code",
      "metadata": {
        "id": "zCP5dJRHEYzy"
      },
      "source": [
        "df['price'] = df['price'].apply(lambda x:x[1:] if type(x)==\"str\" else x)"
      ],
      "execution_count": null,
      "outputs": []
    },
    {
      "cell_type": "code",
      "metadata": {
        "id": "d43oexqmh_Qn"
      },
      "source": [
        "df.info()"
      ],
      "execution_count": null,
      "outputs": []
    },
    {
      "cell_type": "code",
      "metadata": {
        "id": "z9dhKRz6iLzp"
      },
      "source": [
        "c = ['price', 'minimum_nights','number_of_reviews','calculated_host_listings_count', 'availability_365']"
      ],
      "execution_count": null,
      "outputs": []
    },
    {
      "cell_type": "code",
      "metadata": {
        "id": "NhOs6fz9Fq4U"
      },
      "source": [
        "from sklearn.preprocessing import Normalizer\n",
        "norm = pd.DataFrame(Normalizer().fit_transform(df[c]),columns=c) "
      ],
      "execution_count": null,
      "outputs": []
    },
    {
      "cell_type": "code",
      "metadata": {
        "id": "5U7kpbNUh8Ym"
      },
      "source": [
        "sns.heatmap(norm.corr(),cmap = 'viridis')"
      ],
      "execution_count": null,
      "outputs": []
    },
    {
      "cell_type": "markdown",
      "metadata": {
        "id": "1OrQx6mGn1j_"
      },
      "source": [
        "There is a strong negative correlation between price and availability_365( almost -0.75).\n",
        "(i.e) Price increases with demand."
      ]
    },
    {
      "cell_type": "code",
      "metadata": {
        "id": "EHQ-tal_ix3_"
      },
      "source": [
        "top_10_host_price = df.groupby(['host_id'])['price'].sum().sort_values(ascending = True)[-10:]"
      ],
      "execution_count": null,
      "outputs": []
    },
    {
      "cell_type": "code",
      "metadata": {
        "id": "u4419hyA2HPP"
      },
      "source": [
        "top_10_host_price[::-1]"
      ],
      "execution_count": null,
      "outputs": []
    },
    {
      "cell_type": "code",
      "metadata": {
        "id": "AqnIj5JFjF9T"
      },
      "source": [
        "top_10_host_price.plot.barh(figsize=(10, 7), color= colors, alpha = .7,width=.5)\n",
        "plt.title(\"Top 10 host with high price\", fontsize=20)\n",
        "plt.xlabel('Total price', fontsize=12)\n",
        "plt.show()"
      ],
      "execution_count": null,
      "outputs": []
    },
    {
      "cell_type": "code",
      "metadata": {
        "id": "2tDCjfJJAm4A"
      },
      "source": [
        "negh_host = pd.DataFrame(df.groupby(['neighbourhood','host_id'])['host_id'].count().sort_values(ascending = True))[-10:]\n",
        "negh_host.columns = ['host_count']"
      ],
      "execution_count": null,
      "outputs": []
    },
    {
      "cell_type": "code",
      "metadata": {
        "id": "ovWoMKw_BqhD"
      },
      "source": [
        "negh_host[::-1].plot.barh(figsize=(10, 7), color= colors, alpha = .7,width=.5)\n",
        "plt.title(\"Top 10 host with high count\", fontsize=20)\n",
        "plt.xlabel('Total count', fontsize=12)\n",
        "plt.show()"
      ],
      "execution_count": null,
      "outputs": []
    },
    {
      "cell_type": "code",
      "metadata": {
        "id": "O_QZxQWuCDYz"
      },
      "source": [
        ""
      ],
      "execution_count": null,
      "outputs": []
    }
  ]
}